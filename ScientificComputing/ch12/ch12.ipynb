{
 "cells": [
  {
   "cell_type": "code",
   "execution_count": 1,
   "metadata": {},
   "outputs": [],
   "source": [
    "import cv2 as cv"
   ]
  },
  {
   "cell_type": "code",
   "execution_count": 2,
   "metadata": {},
   "outputs": [],
   "source": [
    "filename = \"lena.jpg\""
   ]
  },
  {
   "cell_type": "code",
   "execution_count": 3,
   "metadata": {},
   "outputs": [],
   "source": [
    "img = cv.imread(filename)\n",
    "# cv.namedWindow(\"demo1\")\n",
    "# cv.imshow(\"demo1\", img)"
   ]
  },
  {
   "cell_type": "code",
   "execution_count": 4,
   "metadata": {},
   "outputs": [
    {
     "data": {
      "text/plain": [
       "numpy.ndarray"
      ]
     },
     "execution_count": 4,
     "metadata": {},
     "output_type": "execute_result"
    }
   ],
   "source": [
    "type(img)"
   ]
  },
  {
   "cell_type": "code",
   "execution_count": 6,
   "metadata": {},
   "outputs": [
    {
     "data": {
      "text/plain": [
       "603648"
      ]
     },
     "execution_count": 6,
     "metadata": {},
     "output_type": "execute_result"
    }
   ],
   "source": [
    "img.size"
   ]
  },
  {
   "cell_type": "code",
   "execution_count": 10,
   "metadata": {},
   "outputs": [
    {
     "data": {
      "text/plain": [
       "array([[[107, 132, 226],\n",
       "        [110, 135, 229],\n",
       "        [113, 135, 230],\n",
       "        ...,\n",
       "        [ 65,  31, 101],\n",
       "        [ 63,  30,  97],\n",
       "        [ 61,  28,  95]],\n",
       "\n",
       "       [[104, 129, 223],\n",
       "        [106, 131, 225],\n",
       "        [109, 131, 226],\n",
       "        ...,\n",
       "        [ 70,  36, 106],\n",
       "        [ 67,  33, 103],\n",
       "        [ 65,  32,  99]],\n",
       "\n",
       "       [[109, 131, 226],\n",
       "        [110, 132, 227],\n",
       "        [111, 133, 228],\n",
       "        ...,\n",
       "        [ 71,  34, 106],\n",
       "        [ 68,  31, 103],\n",
       "        [ 70,  34, 104]],\n",
       "\n",
       "       ...,\n",
       "\n",
       "       [[ 57,  13,  82],\n",
       "        [ 52,  11,  79],\n",
       "        [ 58,  19,  87],\n",
       "        ...,\n",
       "        [ 97,  78, 165],\n",
       "        [101,  78, 163],\n",
       "        [ 97,  74, 158]],\n",
       "\n",
       "       [[ 51,   7,  76],\n",
       "        [ 53,   9,  78],\n",
       "        [ 60,  19,  87],\n",
       "        ...,\n",
       "        [ 97,  76, 161],\n",
       "        [102,  78, 162],\n",
       "        [ 98,  74, 158]],\n",
       "\n",
       "       [[ 55,  10,  79],\n",
       "        [ 51,   7,  76],\n",
       "        [ 56,  14,  85],\n",
       "        ...,\n",
       "        [ 95,  72, 157],\n",
       "        [101,  75, 159],\n",
       "        [ 99,  73, 156]]], dtype=uint8)"
      ]
     },
     "execution_count": 10,
     "metadata": {},
     "output_type": "execute_result"
    }
   ],
   "source": [
    "img"
   ]
  },
  {
   "cell_type": "code",
   "execution_count": null,
   "metadata": {},
   "outputs": [],
   "source": []
  }
 ],
 "metadata": {
  "kernelspec": {
   "display_name": "Python 3",
   "language": "python",
   "name": "python3"
  },
  "language_info": {
   "codemirror_mode": {
    "name": "ipython",
    "version": 3
   },
   "file_extension": ".py",
   "mimetype": "text/x-python",
   "name": "python",
   "nbconvert_exporter": "python",
   "pygments_lexer": "ipython3",
   "version": "3.7.1"
  }
 },
 "nbformat": 4,
 "nbformat_minor": 2
}
