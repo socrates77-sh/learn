{
 "cells": [
  {
   "cell_type": "code",
   "execution_count": 1,
   "metadata": {},
   "outputs": [],
   "source": [
    "from scipy import constants as C"
   ]
  },
  {
   "cell_type": "code",
   "execution_count": 5,
   "metadata": {},
   "outputs": [
    {
     "data": {
      "text/plain": [
       "299792458.0"
      ]
     },
     "execution_count": 5,
     "metadata": {},
     "output_type": "execute_result"
    }
   ],
   "source": [
    "C.c"
   ]
  },
  {
   "cell_type": "code",
   "execution_count": null,
   "metadata": {},
   "outputs": [],
   "source": []
  },
  {
   "cell_type": "code",
   "execution_count": 6,
   "metadata": {},
   "outputs": [],
   "source": [
    "?C.physical_constants"
   ]
  },
  {
   "cell_type": "code",
   "execution_count": 7,
   "metadata": {},
   "outputs": [],
   "source": [
    "import scipy.special as S"
   ]
  },
  {
   "cell_type": "code",
   "execution_count": 8,
   "metadata": {},
   "outputs": [
    {
     "data": {
      "text/plain": [
       "6.0"
      ]
     },
     "execution_count": 8,
     "metadata": {},
     "output_type": "execute_result"
    }
   ],
   "source": [
    "S.gamma(4)"
   ]
  },
  {
   "cell_type": "code",
   "execution_count": 10,
   "metadata": {},
   "outputs": [
    {
     "data": {
      "text/plain": [
       "1.7724538509055159"
      ]
     },
     "execution_count": 10,
     "metadata": {},
     "output_type": "execute_result"
    }
   ],
   "source": [
    "S.gamma(0.5)"
   ]
  },
  {
   "cell_type": "code",
   "execution_count": 12,
   "metadata": {},
   "outputs": [],
   "source": [
    "import numpy as np\n",
    "from scipy.optimize import leastsq"
   ]
  },
  {
   "cell_type": "code",
   "execution_count": 13,
   "metadata": {},
   "outputs": [],
   "source": [
    "X = np.array([8.19, 2.72, 6.39, 8.71, 4.7, 2.66, 3.78])\n",
    "Y = np.array([7.01, 2.78, 6.47, 6.71, 4.1, 4.23, 4.05])"
   ]
  },
  {
   "cell_type": "code",
   "execution_count": 14,
   "metadata": {},
   "outputs": [],
   "source": [
    "def residuals(p):\n",
    "    k, b =p\n",
    "    return Y-(k*X+b)"
   ]
  },
  {
   "cell_type": "code",
   "execution_count": 15,
   "metadata": {},
   "outputs": [],
   "source": [
    "r = leastsq(residuals, [1,0])"
   ]
  },
  {
   "cell_type": "code",
   "execution_count": 16,
   "metadata": {},
   "outputs": [
    {
     "data": {
      "text/plain": [
       "(array([0.61349535, 1.79409254]), 1)"
      ]
     },
     "execution_count": 16,
     "metadata": {},
     "output_type": "execute_result"
    }
   ],
   "source": [
    "r"
   ]
  },
  {
   "cell_type": "code",
   "execution_count": 17,
   "metadata": {},
   "outputs": [],
   "source": [
    "k, b = r[0]"
   ]
  },
  {
   "cell_type": "code",
   "execution_count": 18,
   "metadata": {},
   "outputs": [
    {
     "data": {
      "text/plain": [
       "(0.6134953491930442, 1.794092543259387)"
      ]
     },
     "execution_count": 18,
     "metadata": {},
     "output_type": "execute_result"
    }
   ],
   "source": [
    "k,b"
   ]
  },
  {
   "cell_type": "code",
   "execution_count": 20,
   "metadata": {},
   "outputs": [],
   "source": [
    "import pylab as pl\n",
    "\n",
    "def func(x, p):\n",
    "    \"\"\"\n",
    "    数据拟合所用的函数: A*sin(2*pi*k*x + theta)\n",
    "    \"\"\"\n",
    "    A, k, theta = p\n",
    "    return A*np.sin(2*np.pi*k*x+theta)   \n",
    "\n",
    "def residuals(p, y, x):\n",
    "    \"\"\"\n",
    "    实验数据x, y和拟合函数之间的差，p为拟合需要找到的系数\n",
    "    \"\"\"\n",
    "    return y - func(x, p)"
   ]
  },
  {
   "cell_type": "code",
   "execution_count": 21,
   "metadata": {},
   "outputs": [],
   "source": [
    "x = np.linspace(0, -2*np.pi, 100)\n",
    "A, k, theta = 10, 0.34, np.pi/6 # 真实数据的函数参数\n",
    "y0 = func(x, [A, k, theta]) # 真实数据\n",
    "y1 = y0 + 2 * np.random.randn(len(x)) # 加入噪声之后的实验数据    \n",
    "\n",
    "p0 = [7, 0.2, 0] # 第一次猜测的函数拟合参数"
   ]
  },
  {
   "cell_type": "code",
   "execution_count": 22,
   "metadata": {},
   "outputs": [
    {
     "name": "stdout",
     "output_type": "stream",
     "text": [
      "真实参数: [10, 0.34, 0.5235987755982988]\n",
      "拟合参数 [ 9.79013456  0.34067184 -5.72616293]\n"
     ]
    }
   ],
   "source": [
    "plsq = leastsq(residuals, p0, args=(y1, x))\n",
    "\n",
    "print(u\"真实参数:\", [A, k, theta] )\n",
    "print(u\"拟合参数\", plsq[0]) # 实验数据拟合后的参数"
   ]
  },
  {
   "cell_type": "code",
   "execution_count": 23,
   "metadata": {},
   "outputs": [
    {
     "data": {
      "image/png": "[encoded data removed]",
      "text/plain": [
       "<Figure size 432x288 with 1 Axes>"
      ]
     },
     "metadata": {
      "needs_background": "light"
     },
     "output_type": "display_data"
    }
   ],
   "source": [
    "pl.plot(x, y0, label=u\"真实数据\")\n",
    "pl.plot(x, y1, label=u\"带噪声的实验数据\")\n",
    "pl.plot(x, func(x, plsq[0]), label=u\"拟合数据\")\n",
    "pl.legend()\n",
    "pl.show()"
   ]
  },
  {
   "cell_type": "code",
   "execution_count": 24,
   "metadata": {},
   "outputs": [],
   "source": [
    "import scipy.optimize as opt"
   ]
  },
  {
   "cell_type": "code",
   "execution_count": 25,
   "metadata": {},
   "outputs": [],
   "source": [
    "points=[]"
   ]
  },
  {
   "cell_type": "code",
   "execution_count": 28,
   "metadata": {},
   "outputs": [],
   "source": [
    "def f(p):\n",
    "    x, y = p\n",
    "    z = (1-x)**2 + 100*(y-x**2)**2\n",
    "    points.append((x,y,z))\n",
    "    return z"
   ]
  },
  {
   "cell_type": "code",
   "execution_count": 29,
   "metadata": {},
   "outputs": [],
   "source": [
    "def fprime(p):\n",
    "    x, y = p\n",
    "    dx = -2+2*x-400*(y-x**2)\n",
    "    dy = 200*y-200*x**2\n",
    "    return np.array([dx, dy])"
   ]
  },
  {
   "cell_type": "code",
   "execution_count": 32,
   "metadata": {},
   "outputs": [],
   "source": [
    "init_point=(-2,-2)"
   ]
  },
  {
   "cell_type": "code",
   "execution_count": null,
   "metadata": {},
   "outputs": [],
   "source": [
    "method='fmin_bfgs'"
   ]
  },
  {
   "cell_type": "code",
   "execution_count": 33,
   "metadata": {},
   "outputs": [
    {
     "ename": "NameError",
     "evalue": "name 'method' is not defined",
     "output_type": "error",
     "traceback": [
      "\u001b[1;31m---------------------------------------------------------------------------\u001b[0m",
      "\u001b[1;31mNameError\u001b[0m                                 Traceback (most recent call last)",
      "\u001b[1;32m<ipython-input-33-0b82bc42d6bf>\u001b[0m in \u001b[0;36m<module>\u001b[1;34m\u001b[0m\n\u001b[1;32m----> 1\u001b[1;33m \u001b[0mfmin_func\u001b[0m\u001b[1;33m=\u001b[0m\u001b[0mopt\u001b[0m\u001b[1;33m.\u001b[0m\u001b[0m__dict__\u001b[0m\u001b[1;33m[\u001b[0m\u001b[0mmethod\u001b[0m\u001b[1;33m]\u001b[0m\u001b[1;33m\u001b[0m\u001b[1;33m\u001b[0m\u001b[0m\n\u001b[0m",
      "\u001b[1;31mNameError\u001b[0m: name 'method' is not defined"
     ]
    }
   ],
   "source": [
    "fmin_func=opt.__dict__[method]"
   ]
  },
  {
   "cell_type": "code",
   "execution_count": 34,
   "metadata": {},
   "outputs": [
    {
     "data": {
      "text/plain": [
       "{'__name__': 'scipy.optimize',\n",
       " '__doc__': \"\\n=====================================================\\nOptimization and root finding (:mod:`scipy.optimize`)\\n=====================================================\\n\\n.. currentmodule:: scipy.optimize\\n\\nOptimization\\n============\\n\\nLocal Optimization\\n------------------\\n\\n.. autosummary::\\n   :toctree: generated/\\n\\n   minimize - Interface for minimizers of multivariate functions\\n   minimize_scalar - Interface for minimizers of univariate functions\\n   OptimizeResult - The optimization result returned by some optimizers\\n   OptimizeWarning - The optimization encountered problems\\n\\nThe `minimize` function supports the following methods:\\n\\n.. toctree::\\n\\n   optimize.minimize-neldermead\\n   optimize.minimize-powell\\n   optimize.minimize-cg\\n   optimize.minimize-bfgs\\n   optimize.minimize-newtoncg\\n   optimize.minimize-lbfgsb\\n   optimize.minimize-tnc\\n   optimize.minimize-cobyla\\n   optimize.minimize-slsqp\\n   optimize.minimize-trustconstr\\n   optimize.minimize-dogleg\\n   optimize.minimize-trustncg\\n   optimize.minimize-trustkrylov\\n   optimize.minimize-trustexact\\n\\nConstraints are passed to `minimize` function as a single object or\\nas a list of objects from the following classes:\\n\\n.. autosummary::\\n   :toctree: generated/\\n\\n   NonlinearConstraint - Class defining general nonlinear constraints.\\n   LinearConstraint - Class defining general linear constraints.\\n\\nSimple bound constraints are handled separately and there is a special class\\nfor them:\\n\\n.. autosummary::\\n   :toctree: generated/\\n\\n   Bounds - Bound constraints.\\n\\nQuasi-Newton strategies implementing `HessianUpdateStrategy`\\ninterface can be used to approximate the Hessian in `minimize`\\nfunction (available only for the 'trust-constr' method). Available\\nquasi-Newton methods implementing this interface are:\\n\\n.. autosummary::\\n   :toctree: generated/\\n\\n   BFGS - Broyden-Fletcher-Goldfarb-Shanno (BFGS) Hessian update strategy.\\n   SR1 - Symmetric-rank-1 Hessian update strategy.\\n\\nThe `minimize_scalar` function supports the following methods:\\n\\n.. toctree::\\n\\n   optimize.minimize_scalar-brent\\n   optimize.minimize_scalar-bounded\\n   optimize.minimize_scalar-golden\\n\\nThe specific optimization method interfaces below in this subsection are\\nnot recommended for use in new scripts; all of these methods are accessible\\nvia a newer, more consistent interface provided by the functions above.\\n\\nGeneral-purpose multivariate methods:\\n\\n.. autosummary::\\n   :toctree: generated/\\n\\n   fmin - Nelder-Mead Simplex algorithm\\n   fmin_powell - Powell's (modified) level set method\\n   fmin_cg - Non-linear (Polak-Ribiere) conjugate gradient algorithm\\n   fmin_bfgs - Quasi-Newton method (Broydon-Fletcher-Goldfarb-Shanno)\\n   fmin_ncg - Line-search Newton Conjugate Gradient\\n\\nConstrained multivariate methods:\\n\\n.. autosummary::\\n   :toctree: generated/\\n\\n   fmin_l_bfgs_b - Zhu, Byrd, and Nocedal's constrained optimizer\\n   fmin_tnc - Truncated Newton code\\n   fmin_cobyla - Constrained optimization by linear approximation\\n   fmin_slsqp - Minimization using sequential least-squares programming\\n   differential_evolution - stochastic minimization using differential evolution\\n\\nUnivariate (scalar) minimization methods:\\n\\n.. autosummary::\\n   :toctree: generated/\\n\\n   fminbound - Bounded minimization of a scalar function\\n   brent - 1-D function minimization using Brent method\\n   golden - 1-D function minimization using Golden Section method\\n\\nEquation (Local) Minimizers\\n---------------------------\\n\\n.. autosummary::\\n   :toctree: generated/\\n\\n   leastsq - Minimize the sum of squares of M equations in N unknowns\\n   least_squares - Feature-rich least-squares minimization.\\n   nnls - Linear least-squares problem with non-negativity constraint\\n   lsq_linear - Linear least-squares problem with bound constraints\\n\\nGlobal Optimization\\n-------------------\\n\\n.. autosummary::\\n   :toctree: generated/\\n\\n   basinhopping - Basinhopping stochastic optimizer\\n   brute - Brute force searching optimizer\\n   differential_evolution - stochastic minimization using differential evolution\\n\\nRosenbrock function\\n-------------------\\n\\n.. autosummary::\\n   :toctree: generated/\\n\\n   rosen - The Rosenbrock function.\\n   rosen_der - The derivative of the Rosenbrock function.\\n   rosen_hess - The Hessian matrix of the Rosenbrock function.\\n   rosen_hess_prod - Product of the Rosenbrock Hessian with a vector.\\n\\nFitting\\n=======\\n\\n.. autosummary::\\n   :toctree: generated/\\n\\n   curve_fit -- Fit curve to a set of points\\n\\nRoot finding\\n============\\n\\nScalar functions\\n----------------\\n.. autosummary::\\n   :toctree: generated/\\n\\n   brentq - quadratic interpolation Brent method\\n   brenth - Brent method, modified by Harris with hyperbolic extrapolation\\n   ridder - Ridder's method\\n   bisect - Bisection method\\n   newton - Secant method or Newton's method\\n\\nFixed point finding:\\n\\n.. autosummary::\\n   :toctree: generated/\\n\\n   fixed_point - Single-variable fixed-point solver\\n\\nMultidimensional\\n----------------\\n\\nGeneral nonlinear solvers:\\n\\n.. autosummary::\\n   :toctree: generated/\\n\\n   root - Unified interface for nonlinear solvers of multivariate functions\\n   fsolve - Non-linear multi-variable equation solver\\n   broyden1 - Broyden's first method\\n   broyden2 - Broyden's second method\\n\\nThe `root` function supports the following methods:\\n\\n.. toctree::\\n\\n   optimize.root-hybr\\n   optimize.root-lm\\n   optimize.root-broyden1\\n   optimize.root-broyden2\\n   optimize.root-anderson\\n   optimize.root-linearmixing\\n   optimize.root-diagbroyden\\n   optimize.root-excitingmixing\\n   optimize.root-krylov\\n   optimize.root-dfsane\\n\\nLarge-scale nonlinear solvers:\\n\\n.. autosummary::\\n   :toctree: generated/\\n\\n   newton_krylov\\n   anderson\\n\\nSimple iterations:\\n\\n.. autosummary::\\n   :toctree: generated/\\n\\n   excitingmixing\\n   linearmixing\\n   diagbroyden\\n\\n:mod:`Additional information on the nonlinear solvers <scipy.optimize.nonlin>`\\n\\nLinear Programming\\n==================\\n\\nGeneral linear programming solver:\\n\\n.. autosummary::\\n   :toctree: generated/\\n\\n   linprog -- Unified interface for minimizers of linear programming problems\\n\\nThe `linprog` function supports the following methods:\\n\\n.. toctree::\\n\\n   optimize.linprog-simplex\\n   optimize.linprog-interior-point\\n\\nThe simplex method supports callback functions, such as:\\n\\n.. autosummary::\\n   :toctree: generated/\\n\\n   linprog_verbose_callback -- Sample callback function for linprog (simplex)\\n\\nAssignment problems:\\n\\n.. autosummary::\\n   :toctree: generated/\\n\\n   linear_sum_assignment -- Solves the linear-sum assignment problem\\n\\nUtilities\\n=========\\n\\n.. autosummary::\\n   :toctree: generated/\\n\\n   approx_fprime - Approximate the gradient of a scalar function\\n   bracket - Bracket a minimum, given two starting points\\n   check_grad - Check the supplied derivative using finite differences\\n   line_search - Return a step that satisfies the strong Wolfe conditions\\n\\n   show_options - Show specific options optimization solvers\\n   LbfgsInvHessProduct - Linear operator for L-BFGS approximate inverse Hessian\\n   HessianUpdateStrategy - Interface for implementing Hessian update strategies\\n\\n\",\n",
       " '__package__': 'scipy.optimize',\n",
       " '__loader__': <_frozen_importlib_external.SourceFileLoader at 0xa729a50>,\n",
       " '__spec__': ModuleSpec(name='scipy.optimize', loader=<_frozen_importlib_external.SourceFileLoader object at 0x0A729A50>, origin='e:\\\\python3\\\\lib\\\\site-packages\\\\scipy\\\\optimize\\\\__init__.py', submodule_search_locations=['e:\\\\python3\\\\lib\\\\site-packages\\\\scipy\\\\optimize']),\n",
       " '__path__': ['e:\\\\python3\\\\lib\\\\site-packages\\\\scipy\\\\optimize'],\n",
       " '__file__': 'e:\\\\python3\\\\lib\\\\site-packages\\\\scipy\\\\optimize\\\\__init__.py',\n",
       " '__cached__': 'e:\\\\python3\\\\lib\\\\site-packages\\\\scipy\\\\optimize\\\\__pycache__\\\\__init__.cpython-37.pyc',\n",
       " '__builtins__': {'__name__': 'builtins',\n",
       "  '__doc__': \"Built-in functions, exceptions, and other objects.\\n\\nNoteworthy: None is the `nil' object; Ellipsis represents `...' in slices.\",\n",
       "  '__package__': '',\n",
       "  '__loader__': _frozen_importlib.BuiltinImporter,\n",
       "  '__spec__': ModuleSpec(name='builtins', loader=<class '_frozen_importlib.BuiltinImporter'>),\n",
       "  '__build_class__': <function __build_class__>,\n",
       "  '__import__': <function __import__>,\n",
       "  'abs': <function abs(x, /)>,\n",
       "  'all': <function all(iterable, /)>,\n",
       "  'any': <function any(iterable, /)>,\n",
       "  'ascii': <function ascii(obj, /)>,\n",
       "  'bin': <function bin(number, /)>,\n",
       "  'breakpoint': <function breakpoint>,\n",
       "  'callable': <function callable(obj, /)>,\n",
       "  'chr': <function chr(i, /)>,\n",
       "  'compile': <function compile(source, filename, mode, flags=0, dont_inherit=False, optimize=-1)>,\n",
       "  'delattr': <function delattr(obj, name, /)>,\n",
       "  'dir': <function dir>,\n",
       "  'divmod': <function divmod(x, y, /)>,\n",
       "  'eval': <function eval(source, globals=None, locals=None, /)>,\n",
       "  'exec': <function exec(source, globals=None, locals=None, /)>,\n",
       "  'format': <function format(value, format_spec='', /)>,\n",
       "  'getattr': <function getattr>,\n",
       "  'globals': <function globals()>,\n",
       "  'hasattr': <function hasattr(obj, name, /)>,\n",
       "  'hash': <function hash(obj, /)>,\n",
       "  'hex': <function hex(number, /)>,\n",
       "  'id': <function id(obj, /)>,\n",
       "  'input': <bound method Kernel.raw_input of <ipykernel.ipkernel.IPythonKernel object at 0x04CDE930>>,\n",
       "  'isinstance': <function isinstance(obj, class_or_tuple, /)>,\n",
       "  'issubclass': <function issubclass(cls, class_or_tuple, /)>,\n",
       "  'iter': <function iter>,\n",
       "  'len': <function len(obj, /)>,\n",
       "  'locals': <function locals()>,\n",
       "  'max': <function max>,\n",
       "  'min': <function min>,\n",
       "  'next': <function next>,\n",
       "  'oct': <function oct(number, /)>,\n",
       "  'ord': <function ord(c, /)>,\n",
       "  'pow': <function pow(x, y, z=None, /)>,\n",
       "  'print': <function print>,\n",
       "  'repr': <function repr(obj, /)>,\n",
       "  'round': <function round(number, ndigits=None)>,\n",
       "  'setattr': <function setattr(obj, name, value, /)>,\n",
       "  'sorted': <function sorted(iterable, /, *, key=None, reverse=False)>,\n",
       "  'sum': <function sum(iterable, start=0, /)>,\n",
       "  'vars': <function vars>,\n",
       "  'None': None,\n",
       "  'Ellipsis': Ellipsis,\n",
       "  'NotImplemented': NotImplemented,\n",
       "  'False': False,\n",
       "  'True': True,\n",
       "  'bool': bool,\n",
       "  'memoryview': memoryview,\n",
       "  'bytearray': bytearray,\n",
       "  'bytes': bytes,\n",
       "  'classmethod': classmethod,\n",
       "  'complex': complex,\n",
       "  'dict': dict,\n",
       "  'enumerate': enumerate,\n",
       "  'filter': filter,\n",
       "  'float': float,\n",
       "  'frozenset': frozenset,\n",
       "  'property': property,\n",
       "  'int': int,\n",
       "  'list': list,\n",
       "  'map': map,\n",
       "  'object': object,\n",
       "  'range': range,\n",
       "  'reversed': reversed,\n",
       "  'set': set,\n",
       "  'slice': slice,\n",
       "  'staticmethod': staticmethod,\n",
       "  'str': str,\n",
       "  'super': super,\n",
       "  'tuple': tuple,\n",
       "  'type': type,\n",
       "  'zip': zip,\n",
       "  '__debug__': True,\n",
       "  'BaseException': BaseException,\n",
       "  'Exception': Exception,\n",
       "  'TypeError': TypeError,\n",
       "  'StopAsyncIteration': StopAsyncIteration,\n",
       "  'StopIteration': StopIteration,\n",
       "  'GeneratorExit': GeneratorExit,\n",
       "  'SystemExit': SystemExit,\n",
       "  'KeyboardInterrupt': KeyboardInterrupt,\n",
       "  'ImportError': ImportError,\n",
       "  'ModuleNotFoundError': ModuleNotFoundError,\n",
       "  'OSError': OSError,\n",
       "  'EnvironmentError': OSError,\n",
       "  'IOError': OSError,\n",
       "  'WindowsError': OSError,\n",
       "  'EOFError': EOFError,\n",
       "  'RuntimeError': RuntimeError,\n",
       "  'RecursionError': RecursionError,\n",
       "  'NotImplementedError': NotImplementedError,\n",
       "  'NameError': NameError,\n",
       "  'UnboundLocalError': UnboundLocalError,\n",
       "  'AttributeError': AttributeError,\n",
       "  'SyntaxError': SyntaxError,\n",
       "  'IndentationError': IndentationError,\n",
       "  'TabError': TabError,\n",
       "  'LookupError': LookupError,\n",
       "  'IndexError': IndexError,\n",
       "  'KeyError': KeyError,\n",
       "  'ValueError': ValueError,\n",
       "  'UnicodeError': UnicodeError,\n",
       "  'UnicodeEncodeError': UnicodeEncodeError,\n",
       "  'UnicodeDecodeError': UnicodeDecodeError,\n",
       "  'UnicodeTranslateError': UnicodeTranslateError,\n",
       "  'AssertionError': AssertionError,\n",
       "  'ArithmeticError': ArithmeticError,\n",
       "  'FloatingPointError': FloatingPointError,\n",
       "  'OverflowError': OverflowError,\n",
       "  'ZeroDivisionError': ZeroDivisionError,\n",
       "  'SystemError': SystemError,\n",
       "  'ReferenceError': ReferenceError,\n",
       "  'MemoryError': MemoryError,\n",
       "  'BufferError': BufferError,\n",
       "  'Warning': Warning,\n",
       "  'UserWarning': UserWarning,\n",
       "  'DeprecationWarning': DeprecationWarning,\n",
       "  'PendingDeprecationWarning': PendingDeprecationWarning,\n",
       "  'SyntaxWarning': SyntaxWarning,\n",
       "  'RuntimeWarning': RuntimeWarning,\n",
       "  'FutureWarning': FutureWarning,\n",
       "  'ImportWarning': ImportWarning,\n",
       "  'UnicodeWarning': UnicodeWarning,\n",
       "  'BytesWarning': BytesWarning,\n",
       "  'ResourceWarning': ResourceWarning,\n",
       "  'ConnectionError': ConnectionError,\n",
       "  'BlockingIOError': BlockingIOError,\n",
       "  'BrokenPipeError': BrokenPipeError,\n",
       "  'ChildProcessError': ChildProcessError,\n",
       "  'ConnectionAbortedError': ConnectionAbortedError,\n",
       "  'ConnectionRefusedError': ConnectionRefusedError,\n",
       "  'ConnectionResetError': ConnectionResetError,\n",
       "  'FileExistsError': FileExistsError,\n",
       "  'FileNotFoundError': FileNotFoundError,\n",
       "  'IsADirectoryError': IsADirectoryError,\n",
       "  'NotADirectoryError': NotADirectoryError,\n",
       "  'InterruptedError': InterruptedError,\n",
       "  'PermissionError': PermissionError,\n",
       "  'ProcessLookupError': ProcessLookupError,\n",
       "  'TimeoutError': TimeoutError,\n",
       "  'open': <function io.open(file, mode='r', buffering=-1, encoding=None, errors=None, newline=None, closefd=True, opener=None)>,\n",
       "  'copyright': Copyright (c) 2001-2018 Python Software Foundation.\n",
       "  All Rights Reserved.\n",
       "  \n",
       "  Copyright (c) 2000 BeOpen.com.\n",
       "  All Rights Reserved.\n",
       "  \n",
       "  Copyright (c) 1995-2001 Corporation for National Research Initiatives.\n",
       "  All Rights Reserved.\n",
       "  \n",
       "  Copyright (c) 1991-1995 Stichting Mathematisch Centrum, Amsterdam.\n",
       "  All Rights Reserved.,\n",
       "  'credits':     Thanks to CWI, CNRI, BeOpen.com, Zope Corporation and a cast of thousands\n",
       "      for supporting Python development.  See www.python.org for more information.,\n",
       "  'license': Type license() to see the full license text,\n",
       "  'help': Type help() for interactive help, or help(object) for help about object.,\n",
       "  '__IPYTHON__': True,\n",
       "  'display': <function IPython.core.display.display(*objs, include=None, exclude=None, metadata=None, transient=None, display_id=None, **kwargs)>,\n",
       "  'get_ipython': <bound method InteractiveShell.get_ipython of <ipykernel.zmqshell.ZMQInteractiveShell object at 0x04CDE990>>},\n",
       " 'division': _Feature((2, 2, 0, 'alpha', 2), (3, 0, 0, 'alpha', 0), 8192),\n",
       " 'print_function': _Feature((2, 6, 0, 'alpha', 2), (3, 0, 0, 'alpha', 0), 65536),\n",
       " 'absolute_import': _Feature((2, 5, 0, 'alpha', 1), (3, 0, 0, 'alpha', 0), 16384),\n",
       " 'minpack2': <module 'scipy.optimize.minpack2' from 'e:\\\\python3\\\\lib\\\\site-packages\\\\scipy\\\\optimize\\\\minpack2.cp37-win32.pyd'>,\n",
       " 'linesearch': <module 'scipy.optimize.linesearch' from 'e:\\\\python3\\\\lib\\\\site-packages\\\\scipy\\\\optimize\\\\linesearch.py'>,\n",
       " 'optimize': <module 'scipy.optimize.optimize' from 'e:\\\\python3\\\\lib\\\\site-packages\\\\scipy\\\\optimize\\\\optimize.py'>,\n",
       " 'fmin': <function scipy.optimize.optimize.fmin(func, x0, args=(), xtol=0.0001, ftol=0.0001, maxiter=None, maxfun=None, full_output=0, disp=1, retall=0, callback=None, initial_simplex=None)>,\n",
       " 'fmin_powell': <function scipy.optimize.optimize.fmin_powell(func, x0, args=(), xtol=0.0001, ftol=0.0001, maxiter=None, maxfun=None, full_output=0, disp=1, retall=0, callback=None, direc=None)>,\n",
       " 'fmin_bfgs': <function scipy.optimize.optimize.fmin_bfgs(f, x0, fprime=None, args=(), gtol=1e-05, norm=inf, epsilon=1.4901161193847656e-08, maxiter=None, full_output=0, disp=1, retall=0, callback=None)>,\n",
       " 'fmin_ncg': <function scipy.optimize.optimize.fmin_ncg(f, x0, fprime, fhess_p=None, fhess=None, args=(), avextol=1e-05, epsilon=1.4901161193847656e-08, maxiter=None, full_output=0, disp=1, retall=0, callback=None)>,\n",
       " 'fmin_cg': <function scipy.optimize.optimize.fmin_cg(f, x0, fprime=None, args=(), gtol=1e-05, norm=inf, epsilon=1.4901161193847656e-08, maxiter=None, full_output=0, disp=1, retall=0, callback=None)>,\n",
       " 'fminbound': <function scipy.optimize.optimize.fminbound(func, x1, x2, args=(), xtol=1e-05, maxfun=500, full_output=0, disp=1)>,\n",
       " 'brent': <function scipy.optimize.optimize.brent(func, args=(), brack=None, tol=1.48e-08, full_output=0, maxiter=500)>,\n",
       " 'golden': <function scipy.optimize.optimize.golden(func, args=(), brack=None, tol=1.4901161193847656e-08, full_output=0, maxiter=5000)>,\n",
       " 'bracket': <function scipy.optimize.optimize.bracket(func, xa=0.0, xb=1.0, args=(), grow_limit=110.0, maxiter=1000)>,\n",
       " 'rosen': <function scipy.optimize.optimize.rosen(x)>,\n",
       " 'rosen_der': <function scipy.optimize.optimize.rosen_der(x)>,\n",
       " 'rosen_hess': <function scipy.optimize.optimize.rosen_hess(x)>,\n",
       " 'rosen_hess_prod': <function scipy.optimize.optimize.rosen_hess_prod(x, p)>,\n",
       " 'brute': <function scipy.optimize.optimize.brute(func, ranges, args=(), Ns=20, full_output=0, finish=<function fmin at 0x0560FE40>, disp=False)>,\n",
       " 'approx_fprime': <function scipy.optimize.optimize.approx_fprime(xk, f, epsilon, *args)>,\n",
       " 'line_search': <function scipy.optimize.linesearch.line_search_wolfe2(f, myfprime, xk, pk, gfk=None, old_fval=None, old_old_fval=None, args=(), c1=0.0001, c2=0.9, amax=None, extra_condition=None, maxiter=10)>,\n",
       " 'check_grad': <function scipy.optimize.optimize.check_grad(func, grad, x0, *args, **kwargs)>,\n",
       " 'OptimizeResult': scipy.optimize.optimize.OptimizeResult,\n",
       " 'show_options': <function scipy.optimize.optimize.show_options(solver=None, method=None, disp=True)>,\n",
       " 'OptimizeWarning': scipy.optimize.optimize.OptimizeWarning,\n",
       " '_trustregion': <module 'scipy.optimize._trustregion' from 'e:\\\\python3\\\\lib\\\\site-packages\\\\scipy\\\\optimize\\\\_trustregion.py'>,\n",
       " '_trustregion_dogleg': <module 'scipy.optimize._trustregion_dogleg' from 'e:\\\\python3\\\\lib\\\\site-packages\\\\scipy\\\\optimize\\\\_trustregion_dogleg.py'>,\n",
       " '_trustregion_ncg': <module 'scipy.optimize._trustregion_ncg' from 'e:\\\\python3\\\\lib\\\\site-packages\\\\scipy\\\\optimize\\\\_trustregion_ncg.py'>,\n",
       " '_trlib': <module 'scipy.optimize._trlib' from 'e:\\\\python3\\\\lib\\\\site-packages\\\\scipy\\\\optimize\\\\_trlib\\\\__init__.py'>,\n",
       " '_trustregion_krylov': <module 'scipy.optimize._trustregion_krylov' from 'e:\\\\python3\\\\lib\\\\site-packages\\\\scipy\\\\optimize\\\\_trustregion_krylov.py'>,\n",
       " '_trustregion_exact': <module 'scipy.optimize._trustregion_exact' from 'e:\\\\python3\\\\lib\\\\site-packages\\\\scipy\\\\optimize\\\\_trustregion_exact.py'>,\n",
       " '_group_columns': <module 'scipy.optimize._group_columns' from 'e:\\\\python3\\\\lib\\\\site-packages\\\\scipy\\\\optimize\\\\_group_columns.cp37-win32.pyd'>,\n",
       " '_numdiff': <module 'scipy.optimize._numdiff' from 'e:\\\\python3\\\\lib\\\\site-packages\\\\scipy\\\\optimize\\\\_numdiff.py'>,\n",
       " '_hessian_update_strategy': <module 'scipy.optimize._hessian_update_strategy' from 'e:\\\\python3\\\\lib\\\\site-packages\\\\scipy\\\\optimize\\\\_hessian_update_strategy.py'>,\n",
       " '_differentiable_functions': <module 'scipy.optimize._differentiable_functions' from 'e:\\\\python3\\\\lib\\\\site-packages\\\\scipy\\\\optimize\\\\_differentiable_functions.py'>,\n",
       " '_constraints': <module 'scipy.optimize._constraints' from 'e:\\\\python3\\\\lib\\\\site-packages\\\\scipy\\\\optimize\\\\_constraints.py'>,\n",
       " '_trustregion_constr': <module 'scipy.optimize._trustregion_constr' from 'e:\\\\python3\\\\lib\\\\site-packages\\\\scipy\\\\optimize\\\\_trustregion_constr\\\\__init__.py'>,\n",
       " '_lbfgsb': <module 'scipy.optimize._lbfgsb' from 'e:\\\\python3\\\\lib\\\\site-packages\\\\scipy\\\\optimize\\\\_lbfgsb.cp37-win32.pyd'>,\n",
       " 'lbfgsb': <module 'scipy.optimize.lbfgsb' from 'e:\\\\python3\\\\lib\\\\site-packages\\\\scipy\\\\optimize\\\\lbfgsb.py'>,\n",
       " 'moduleTNC': <module 'scipy.optimize.moduleTNC' from 'e:\\\\python3\\\\lib\\\\site-packages\\\\scipy\\\\optimize\\\\moduleTNC.cp37-win32.pyd'>,\n",
       " 'tnc': <module 'scipy.optimize.tnc' from 'e:\\\\python3\\\\lib\\\\site-packages\\\\scipy\\\\optimize\\\\tnc.py'>,\n",
       " '_cobyla': <module 'scipy.optimize._cobyla' from 'e:\\\\python3\\\\lib\\\\site-packages\\\\scipy\\\\optimize\\\\_cobyla.cp37-win32.pyd'>,\n",
       " 'cobyla': <module 'scipy.optimize.cobyla' from 'e:\\\\python3\\\\lib\\\\site-packages\\\\scipy\\\\optimize\\\\cobyla.py'>,\n",
       " '_slsqp': <module 'scipy.optimize._slsqp' from 'e:\\\\python3\\\\lib\\\\site-packages\\\\scipy\\\\optimize\\\\_slsqp.cp37-win32.pyd'>,\n",
       " 'slsqp': <module 'scipy.optimize.slsqp' from 'e:\\\\python3\\\\lib\\\\site-packages\\\\scipy\\\\optimize\\\\slsqp.py'>,\n",
       " '_minimize': <module 'scipy.optimize._minimize' from 'e:\\\\python3\\\\lib\\\\site-packages\\\\scipy\\\\optimize\\\\_minimize.py'>,\n",
       " 'minimize': <function scipy.optimize._minimize.minimize(fun, x0, args=(), method=None, jac=None, hess=None, hessp=None, bounds=None, constraints=(), tol=None, callback=None, options=None)>,\n",
       " 'minimize_scalar': <function scipy.optimize._minimize.minimize_scalar(fun, bracket=None, bounds=None, args=(), method='brent', tol=None, options=None)>,\n",
       " '_minpack': <module 'scipy.optimize._minpack' from 'e:\\\\python3\\\\lib\\\\site-packages\\\\scipy\\\\optimize\\\\_minpack.cp37-win32.pyd'>,\n",
       " '_lsq': <module 'scipy.optimize._lsq' from 'e:\\\\python3\\\\lib\\\\site-packages\\\\scipy\\\\optimize\\\\_lsq\\\\__init__.py'>,\n",
       " 'minpack': <module 'scipy.optimize.minpack' from 'e:\\\\python3\\\\lib\\\\site-packages\\\\scipy\\\\optimize\\\\minpack.py'>,\n",
       " '_spectral': <module 'scipy.optimize._spectral' from 'e:\\\\python3\\\\lib\\\\site-packages\\\\scipy\\\\optimize\\\\_spectral.py'>,\n",
       " 'nonlin': <module 'scipy.optimize.nonlin' from 'e:\\\\python3\\\\lib\\\\site-packages\\\\scipy\\\\optimize\\\\nonlin.py'>,\n",
       " '_root': <module 'scipy.optimize._root' from 'e:\\\\python3\\\\lib\\\\site-packages\\\\scipy\\\\optimize\\\\_root.py'>,\n",
       " 'root': <function scipy.optimize._root.root(fun, x0, args=(), method='hybr', jac=None, tol=None, callback=None, options=None)>,\n",
       " 'fsolve': <function scipy.optimize.minpack.fsolve(func, x0, args=(), fprime=None, full_output=0, col_deriv=0, xtol=1.49012e-08, maxfev=0, band=None, epsfcn=None, factor=100, diag=None)>,\n",
       " 'leastsq': <function scipy.optimize.minpack.leastsq(func, x0, args=(), Dfun=None, full_output=0, col_deriv=0, ftol=1.49012e-08, xtol=1.49012e-08, gtol=0.0, maxfev=0, epsfcn=None, factor=100, diag=None)>,\n",
       " 'fixed_point': <function scipy.optimize.minpack.fixed_point(func, x0, args=(), xtol=1e-08, maxiter=500, method='del2')>,\n",
       " 'curve_fit': <function scipy.optimize.minpack.curve_fit(f, xdata, ydata, p0=None, sigma=None, absolute_sigma=False, check_finite=True, bounds=(-inf, inf), method=None, jac=None, **kwargs)>,\n",
       " '_zeros': <module 'scipy.optimize._zeros' from 'e:\\\\python3\\\\lib\\\\site-packages\\\\scipy\\\\optimize\\\\_zeros.cp37-win32.pyd'>,\n",
       " 'zeros': <module 'scipy.optimize.zeros' from 'e:\\\\python3\\\\lib\\\\site-packages\\\\scipy\\\\optimize\\\\zeros.py'>,\n",
       " 'newton': <function scipy.optimize.zeros.newton(func, x0, fprime=None, args=(), tol=1.48e-08, maxiter=50, fprime2=None)>,\n",
       " 'bisect': <function scipy.optimize.zeros.bisect(f, a, b, args=(), xtol=2e-12, rtol=8.881784197001252e-16, maxiter=100, full_output=False, disp=True)>,\n",
       " 'ridder': <function scipy.optimize.zeros.ridder(f, a, b, args=(), xtol=2e-12, rtol=8.881784197001252e-16, maxiter=100, full_output=False, disp=True)>,\n",
       " 'brentq': <function scipy.optimize.zeros.brentq(f, a, b, args=(), xtol=2e-12, rtol=8.881784197001252e-16, maxiter=100, full_output=False, disp=True)>,\n",
       " 'brenth': <function scipy.optimize.zeros.brenth(f, a, b, args=(), xtol=2e-12, rtol=8.881784197001252e-16, maxiter=100, full_output=False, disp=True)>,\n",
       " 'fmin_l_bfgs_b': <function scipy.optimize.lbfgsb.fmin_l_bfgs_b(func, x0, fprime=None, args=(), approx_grad=0, bounds=None, m=10, factr=10000000.0, pgtol=1e-05, epsilon=1e-08, iprint=-1, maxfun=15000, maxiter=15000, disp=None, callback=None, maxls=20)>,\n",
       " 'LbfgsInvHessProduct': scipy.optimize.lbfgsb.LbfgsInvHessProduct,\n",
       " 'fmin_tnc': <function scipy.optimize.tnc.fmin_tnc(func, x0, fprime=None, args=(), approx_grad=0, bounds=None, epsilon=1e-08, scale=None, offset=None, messages=15, maxCGit=-1, maxfun=None, eta=-1, stepmx=0, accuracy=0, fmin=0, ftol=-1, xtol=-1, pgtol=-1, rescale=-1, disp=None, callback=None)>,\n",
       " 'fmin_cobyla': <function scipy.optimize.cobyla.fmin_cobyla(func, x0, cons, args=(), consargs=None, rhobeg=1.0, rhoend=0.0001, maxfun=1000, disp=None, catol=0.0002)>,\n",
       " 'broyden1': <function scipy.optimize.nonlin.broyden1(F, xin, iter=None, alpha=None, reduction_method='restart', max_rank=None, verbose=False, maxiter=None, f_tol=None, f_rtol=None, x_tol=None, x_rtol=None, tol_norm=None, line_search='armijo', callback=None, **kw)>,\n",
       " 'broyden2': <function scipy.optimize.nonlin.broyden2(F, xin, iter=None, alpha=None, reduction_method='restart', max_rank=None, verbose=False, maxiter=None, f_tol=None, f_rtol=None, x_tol=None, x_rtol=None, tol_norm=None, line_search='armijo', callback=None, **kw)>,\n",
       " 'anderson': <function scipy.optimize.nonlin.anderson(F, xin, iter=None, alpha=None, w0=0.01, M=5, verbose=False, maxiter=None, f_tol=None, f_rtol=None, x_tol=None, x_rtol=None, tol_norm=None, line_search='armijo', callback=None, **kw)>,\n",
       " 'linearmixing': <function scipy.optimize.nonlin.linearmixing(F, xin, iter=None, alpha=None, verbose=False, maxiter=None, f_tol=None, f_rtol=None, x_tol=None, x_rtol=None, tol_norm=None, line_search='armijo', callback=None, **kw)>,\n",
       " 'diagbroyden': <function scipy.optimize.nonlin.diagbroyden(F, xin, iter=None, alpha=None, verbose=False, maxiter=None, f_tol=None, f_rtol=None, x_tol=None, x_rtol=None, tol_norm=None, line_search='armijo', callback=None, **kw)>,\n",
       " 'excitingmixing': <function scipy.optimize.nonlin.excitingmixing(F, xin, iter=None, alpha=None, alphamax=1.0, verbose=False, maxiter=None, f_tol=None, f_rtol=None, x_tol=None, x_rtol=None, tol_norm=None, line_search='armijo', callback=None, **kw)>,\n",
       " 'newton_krylov': <function scipy.optimize.nonlin.newton_krylov(F, xin, iter=None, rdiff=None, method='lgmres', inner_maxiter=20, inner_M=None, outer_k=10, verbose=False, maxiter=None, f_tol=None, f_rtol=None, x_tol=None, x_rtol=None, tol_norm=None, line_search='armijo', callback=None, **kw)>,\n",
       " 'fmin_slsqp': <function scipy.optimize.slsqp.fmin_slsqp(func, x0, eqcons=(), f_eqcons=None, ieqcons=(), f_ieqcons=None, bounds=(), fprime=None, fprime_eqcons=None, fprime_ieqcons=None, args=(), iter=100, acc=1e-06, iprint=1, disp=None, full_output=0, epsilon=1.4901161193847656e-08, callback=None)>,\n",
       " '_nnls': <module 'scipy.optimize._nnls' from 'e:\\\\python3\\\\lib\\\\site-packages\\\\scipy\\\\optimize\\\\_nnls.cp37-win32.pyd'>,\n",
       " 'nnls': <function scipy.optimize.nnls.nnls(A, b, maxiter=None)>,\n",
       " '_basinhopping': <module 'scipy.optimize._basinhopping' from 'e:\\\\python3\\\\lib\\\\site-packages\\\\scipy\\\\optimize\\\\_basinhopping.py'>,\n",
       " 'basinhopping': <function scipy.optimize._basinhopping.basinhopping(func, x0, niter=100, T=1.0, stepsize=0.5, minimizer_kwargs=None, take_step=None, accept_test=None, callback=None, interval=50, disp=False, niter_success=None, seed=None)>,\n",
       " '_remove_redundancy': <module 'scipy.optimize._remove_redundancy' from 'e:\\\\python3\\\\lib\\\\site-packages\\\\scipy\\\\optimize\\\\_remove_redundancy.py'>,\n",
       " '_linprog_ip': <module 'scipy.optimize._linprog_ip' from 'e:\\\\python3\\\\lib\\\\site-packages\\\\scipy\\\\optimize\\\\_linprog_ip.py'>,\n",
       " '_linprog': <module 'scipy.optimize._linprog' from 'e:\\\\python3\\\\lib\\\\site-packages\\\\scipy\\\\optimize\\\\_linprog.py'>,\n",
       " 'linprog': <function scipy.optimize._linprog.linprog(c, A_ub=None, b_ub=None, A_eq=None, b_eq=None, bounds=None, method='simplex', callback=None, options=None)>,\n",
       " 'linprog_verbose_callback': <function scipy.optimize._linprog.linprog_verbose_callback(xk, **kwargs)>,\n",
       " '_hungarian': <module 'scipy.optimize._hungarian' from 'e:\\\\python3\\\\lib\\\\site-packages\\\\scipy\\\\optimize\\\\_hungarian.py'>,\n",
       " 'linear_sum_assignment': <function scipy.optimize._hungarian.linear_sum_assignment(cost_matrix)>,\n",
       " '_differentialevolution': <module 'scipy.optimize._differentialevolution' from 'e:\\\\python3\\\\lib\\\\site-packages\\\\scipy\\\\optimize\\\\_differentialevolution.py'>,\n",
       " 'differential_evolution': <function scipy.optimize._differentialevolution.differential_evolution(func, bounds, args=(), strategy='best1bin', maxiter=1000, popsize=15, tol=0.01, mutation=(0.5, 1), recombination=0.7, seed=None, callback=None, disp=False, polish=True, init='latinhypercube', atol=0)>,\n",
       " 'least_squares': <function scipy.optimize._lsq.least_squares.least_squares(fun, x0, jac='2-point', bounds=(-inf, inf), method='trf', ftol=1e-08, xtol=1e-08, gtol=1e-08, x_scale=1.0, loss='linear', f_scale=1.0, diff_step=None, tr_solver=None, tr_options={}, jac_sparsity=None, max_nfev=None, verbose=0, args=(), kwargs={})>,\n",
       " 'lsq_linear': <function scipy.optimize._lsq.lsq_linear.lsq_linear(A, b, bounds=(-inf, inf), method='trf', tol=1e-10, lsq_solver=None, lsmr_tol=None, max_iter=None, verbose=0)>,\n",
       " 'NonlinearConstraint': scipy.optimize._constraints.NonlinearConstraint,\n",
       " 'LinearConstraint': scipy.optimize._constraints.LinearConstraint,\n",
       " 'Bounds': scipy.optimize._constraints.Bounds,\n",
       " 'HessianUpdateStrategy': scipy.optimize._hessian_update_strategy.HessianUpdateStrategy,\n",
       " 'BFGS': scipy.optimize._hessian_update_strategy.BFGS,\n",
       " 'SR1': scipy.optimize._hessian_update_strategy.SR1,\n",
       " '__all__': ['BFGS',\n",
       "  'Bounds',\n",
       "  'HessianUpdateStrategy',\n",
       "  'LbfgsInvHessProduct',\n",
       "  'LinearConstraint',\n",
       "  'NonlinearConstraint',\n",
       "  'OptimizeResult',\n",
       "  'OptimizeWarning',\n",
       "  'SR1',\n",
       "  'absolute_import',\n",
       "  'anderson',\n",
       "  'approx_fprime',\n",
       "  'basinhopping',\n",
       "  'bisect',\n",
       "  'bracket',\n",
       "  'brent',\n",
       "  'brenth',\n",
       "  'brentq',\n",
       "  'broyden1',\n",
       "  'broyden2',\n",
       "  'brute',\n",
       "  'check_grad',\n",
       "  'cobyla',\n",
       "  'curve_fit',\n",
       "  'diagbroyden',\n",
       "  'differential_evolution',\n",
       "  'division',\n",
       "  'excitingmixing',\n",
       "  'fixed_point',\n",
       "  'fmin',\n",
       "  'fmin_bfgs',\n",
       "  'fmin_cg',\n",
       "  'fmin_cobyla',\n",
       "  'fmin_l_bfgs_b',\n",
       "  'fmin_ncg',\n",
       "  'fmin_powell',\n",
       "  'fmin_slsqp',\n",
       "  'fmin_tnc',\n",
       "  'fminbound',\n",
       "  'fsolve',\n",
       "  'golden',\n",
       "  'lbfgsb',\n",
       "  'least_squares',\n",
       "  'leastsq',\n",
       "  'line_search',\n",
       "  'linear_sum_assignment',\n",
       "  'linearmixing',\n",
       "  'linesearch',\n",
       "  'linprog',\n",
       "  'linprog_verbose_callback',\n",
       "  'lsq_linear',\n",
       "  'minimize',\n",
       "  'minimize_scalar',\n",
       "  'minpack',\n",
       "  'minpack2',\n",
       "  'moduleTNC',\n",
       "  'newton',\n",
       "  'newton_krylov',\n",
       "  'nnls',\n",
       "  'nonlin',\n",
       "  'optimize',\n",
       "  'print_function',\n",
       "  'ridder',\n",
       "  'root',\n",
       "  'rosen',\n",
       "  'rosen_der',\n",
       "  'rosen_hess',\n",
       "  'rosen_hess_prod',\n",
       "  'show_options',\n",
       "  'slsqp',\n",
       "  'tnc',\n",
       "  'zeros'],\n",
       " 'test': <scipy._lib._testutils.PytestTester at 0x5605270>}"
      ]
     },
     "execution_count": 34,
     "metadata": {},
     "output_type": "execute_result"
    }
   ],
   "source": [
    "opt.__dict__"
   ]
  },
  {
   "cell_type": "code",
   "execution_count": null,
   "metadata": {},
   "outputs": [],
   "source": []
  }
 ],
 "metadata": {
  "kernelspec": {
   "display_name": "Python 3",
   "language": "python",
   "name": "python3"
  },
  "language_info": {
   "codemirror_mode": {
    "name": "ipython",
    "version": 3
   },
   "file_extension": ".py",
   "mimetype": "text/x-python",
   "name": "python",
   "nbconvert_exporter": "python",
   "pygments_lexer": "ipython3",
   "version": "3.7.1"
  }
 },
 "nbformat": 4,
 "nbformat_minor": 2
}
